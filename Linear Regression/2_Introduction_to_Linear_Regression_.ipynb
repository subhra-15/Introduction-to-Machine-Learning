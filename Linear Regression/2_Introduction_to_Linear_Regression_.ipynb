{
  "nbformat": 4,
  "nbformat_minor": 0,
  "metadata": {
    "colab": {
      "name": "2. Introduction to Linear Regression .ipynb",
      "provenance": [],
      "mount_file_id": "1O9o65195VyYYO7YGnkGrK5v6HLrHKqAp",
      "authorship_tag": "ABX9TyP5LKfRIg7nxJdqUSz2u+Ye",
      "include_colab_link": true
    },
    "kernelspec": {
      "name": "python3",
      "display_name": "Python 3"
    },
    "language_info": {
      "name": "python"
    }
  },
  "cells": [
    {
      "cell_type": "markdown",
      "metadata": {
        "id": "view-in-github",
        "colab_type": "text"
      },
      "source": [
        "<a href=\"https://colab.research.google.com/github/subhra-15/Introduction-to-Machine-Learning/blob/master/Linear%20Regression/2_Introduction_to_Linear_Regression_.ipynb\" target=\"_parent\"><img src=\"https://colab.research.google.com/assets/colab-badge.svg\" alt=\"Open In Colab\"/></a>"
      ]
    },
    {
      "cell_type": "code",
      "metadata": {
        "colab": {
          "base_uri": "https://localhost:8080/",
          "height": 326
        },
        "id": "ADEW3RSUlyJW",
        "outputId": "eac49219-9695-4d2a-f424-03403961ff8e"
      },
      "source": [
        "import pandas as pd\n",
        "df=pd.read_csv('/content/drive/MyDrive/Internshala Machine learning/Notebooks/Module 5/Transformed_Housing_Data2[1].csv')\n",
        "df.head()"
      ],
      "execution_count": 1,
      "outputs": [
        {
          "output_type": "execute_result",
          "data": {
            "text/html": [
              "<div>\n",
              "<style scoped>\n",
              "    .dataframe tbody tr th:only-of-type {\n",
              "        vertical-align: middle;\n",
              "    }\n",
              "\n",
              "    .dataframe tbody tr th {\n",
              "        vertical-align: top;\n",
              "    }\n",
              "\n",
              "    .dataframe thead th {\n",
              "        text-align: right;\n",
              "    }\n",
              "</style>\n",
              "<table border=\"1\" class=\"dataframe\">\n",
              "  <thead>\n",
              "    <tr style=\"text-align: right;\">\n",
              "      <th></th>\n",
              "      <th>Sale_Price</th>\n",
              "      <th>No of Bedrooms</th>\n",
              "      <th>No of Bathrooms</th>\n",
              "      <th>Flat Area (in Sqft)</th>\n",
              "      <th>Lot Area (in Sqft)</th>\n",
              "      <th>No of Floors</th>\n",
              "      <th>No of Times Visited</th>\n",
              "      <th>Overall Grade</th>\n",
              "      <th>Area of the House from Basement (in Sqft)</th>\n",
              "      <th>Basement Area (in Sqft)</th>\n",
              "      <th>Age of House (in Years)</th>\n",
              "      <th>Latitude</th>\n",
              "      <th>Longitude</th>\n",
              "      <th>Living Area after Renovation (in Sqft)</th>\n",
              "      <th>Lot Area after Renovation (in Sqft)</th>\n",
              "      <th>Years Since Renovation</th>\n",
              "      <th>Condition_of_the_House_Excellent</th>\n",
              "      <th>Condition_of_the_House_Fair</th>\n",
              "      <th>Condition_of_the_House_Good</th>\n",
              "      <th>Condition_of_the_House_Okay</th>\n",
              "      <th>Ever_Renovated_Yes</th>\n",
              "      <th>Waterfront_View_Yes</th>\n",
              "      <th>Zipcode_Group_Zipcode_Group_1</th>\n",
              "      <th>Zipcode_Group_Zipcode_Group_2</th>\n",
              "      <th>Zipcode_Group_Zipcode_Group_3</th>\n",
              "      <th>Zipcode_Group_Zipcode_Group_4</th>\n",
              "      <th>Zipcode_Group_Zipcode_Group_5</th>\n",
              "      <th>Zipcode_Group_Zipcode_Group_6</th>\n",
              "      <th>Zipcode_Group_Zipcode_Group_7</th>\n",
              "      <th>Zipcode_Group_Zipcode_Group_8</th>\n",
              "      <th>Zipcode_Group_Zipcode_Group_9</th>\n",
              "    </tr>\n",
              "  </thead>\n",
              "  <tbody>\n",
              "    <tr>\n",
              "      <th>0</th>\n",
              "      <td>221900.0</td>\n",
              "      <td>3</td>\n",
              "      <td>1.00</td>\n",
              "      <td>1180.0</td>\n",
              "      <td>5650.0</td>\n",
              "      <td>1.0</td>\n",
              "      <td>0</td>\n",
              "      <td>7</td>\n",
              "      <td>1180.0</td>\n",
              "      <td>0</td>\n",
              "      <td>63</td>\n",
              "      <td>47.5112</td>\n",
              "      <td>-122.257</td>\n",
              "      <td>1340.0</td>\n",
              "      <td>5650</td>\n",
              "      <td>0</td>\n",
              "      <td>0</td>\n",
              "      <td>1</td>\n",
              "      <td>0</td>\n",
              "      <td>0</td>\n",
              "      <td>0</td>\n",
              "      <td>0</td>\n",
              "      <td>0</td>\n",
              "      <td>0</td>\n",
              "      <td>0</td>\n",
              "      <td>0</td>\n",
              "      <td>0</td>\n",
              "      <td>0</td>\n",
              "      <td>0</td>\n",
              "      <td>0</td>\n",
              "      <td>0</td>\n",
              "    </tr>\n",
              "    <tr>\n",
              "      <th>1</th>\n",
              "      <td>538000.0</td>\n",
              "      <td>3</td>\n",
              "      <td>2.25</td>\n",
              "      <td>2570.0</td>\n",
              "      <td>7242.0</td>\n",
              "      <td>2.0</td>\n",
              "      <td>0</td>\n",
              "      <td>7</td>\n",
              "      <td>2170.0</td>\n",
              "      <td>400</td>\n",
              "      <td>67</td>\n",
              "      <td>47.7210</td>\n",
              "      <td>-122.319</td>\n",
              "      <td>1690.0</td>\n",
              "      <td>7639</td>\n",
              "      <td>26</td>\n",
              "      <td>0</td>\n",
              "      <td>1</td>\n",
              "      <td>0</td>\n",
              "      <td>0</td>\n",
              "      <td>1</td>\n",
              "      <td>0</td>\n",
              "      <td>0</td>\n",
              "      <td>1</td>\n",
              "      <td>0</td>\n",
              "      <td>0</td>\n",
              "      <td>0</td>\n",
              "      <td>0</td>\n",
              "      <td>0</td>\n",
              "      <td>0</td>\n",
              "      <td>0</td>\n",
              "    </tr>\n",
              "    <tr>\n",
              "      <th>2</th>\n",
              "      <td>180000.0</td>\n",
              "      <td>2</td>\n",
              "      <td>1.00</td>\n",
              "      <td>770.0</td>\n",
              "      <td>10000.0</td>\n",
              "      <td>1.0</td>\n",
              "      <td>0</td>\n",
              "      <td>6</td>\n",
              "      <td>770.0</td>\n",
              "      <td>0</td>\n",
              "      <td>85</td>\n",
              "      <td>47.7379</td>\n",
              "      <td>-122.233</td>\n",
              "      <td>2720.0</td>\n",
              "      <td>8062</td>\n",
              "      <td>0</td>\n",
              "      <td>0</td>\n",
              "      <td>1</td>\n",
              "      <td>0</td>\n",
              "      <td>0</td>\n",
              "      <td>0</td>\n",
              "      <td>0</td>\n",
              "      <td>0</td>\n",
              "      <td>1</td>\n",
              "      <td>0</td>\n",
              "      <td>0</td>\n",
              "      <td>0</td>\n",
              "      <td>0</td>\n",
              "      <td>0</td>\n",
              "      <td>0</td>\n",
              "      <td>0</td>\n",
              "    </tr>\n",
              "    <tr>\n",
              "      <th>3</th>\n",
              "      <td>604000.0</td>\n",
              "      <td>4</td>\n",
              "      <td>3.00</td>\n",
              "      <td>1960.0</td>\n",
              "      <td>5000.0</td>\n",
              "      <td>1.0</td>\n",
              "      <td>0</td>\n",
              "      <td>7</td>\n",
              "      <td>1050.0</td>\n",
              "      <td>910</td>\n",
              "      <td>53</td>\n",
              "      <td>47.5208</td>\n",
              "      <td>-122.393</td>\n",
              "      <td>1360.0</td>\n",
              "      <td>5000</td>\n",
              "      <td>0</td>\n",
              "      <td>1</td>\n",
              "      <td>0</td>\n",
              "      <td>0</td>\n",
              "      <td>0</td>\n",
              "      <td>0</td>\n",
              "      <td>0</td>\n",
              "      <td>0</td>\n",
              "      <td>0</td>\n",
              "      <td>1</td>\n",
              "      <td>0</td>\n",
              "      <td>0</td>\n",
              "      <td>0</td>\n",
              "      <td>0</td>\n",
              "      <td>0</td>\n",
              "      <td>0</td>\n",
              "    </tr>\n",
              "    <tr>\n",
              "      <th>4</th>\n",
              "      <td>510000.0</td>\n",
              "      <td>3</td>\n",
              "      <td>2.00</td>\n",
              "      <td>1680.0</td>\n",
              "      <td>8080.0</td>\n",
              "      <td>1.0</td>\n",
              "      <td>0</td>\n",
              "      <td>8</td>\n",
              "      <td>1680.0</td>\n",
              "      <td>0</td>\n",
              "      <td>31</td>\n",
              "      <td>47.6168</td>\n",
              "      <td>-122.045</td>\n",
              "      <td>1800.0</td>\n",
              "      <td>7503</td>\n",
              "      <td>0</td>\n",
              "      <td>0</td>\n",
              "      <td>1</td>\n",
              "      <td>0</td>\n",
              "      <td>0</td>\n",
              "      <td>0</td>\n",
              "      <td>0</td>\n",
              "      <td>0</td>\n",
              "      <td>0</td>\n",
              "      <td>0</td>\n",
              "      <td>1</td>\n",
              "      <td>0</td>\n",
              "      <td>0</td>\n",
              "      <td>0</td>\n",
              "      <td>0</td>\n",
              "      <td>0</td>\n",
              "    </tr>\n",
              "  </tbody>\n",
              "</table>\n",
              "</div>"
            ],
            "text/plain": [
              "   Sale_Price  ...  Zipcode_Group_Zipcode_Group_9\n",
              "0    221900.0  ...                              0\n",
              "1    538000.0  ...                              0\n",
              "2    180000.0  ...                              0\n",
              "3    604000.0  ...                              0\n",
              "4    510000.0  ...                              0\n",
              "\n",
              "[5 rows x 31 columns]"
            ]
          },
          "metadata": {
            "tags": []
          },
          "execution_count": 1
        }
      ]
    },
    {
      "cell_type": "code",
      "metadata": {
        "colab": {
          "base_uri": "https://localhost:8080/",
          "height": 979
        },
        "id": "ILrWoBVYmaKd",
        "outputId": "d5398419-8369-4946-e46b-1199f8fa09a4"
      },
      "source": [
        "# Extracting 30 rows of Sale_Price and Flat_area and putting it in the sample data\n",
        "Sale_Price=df['Sale_Price'].head(30)\n",
        "flat_area= df['Flat Area (in Sqft)'].head(30)\n",
        "Sample_data=pd.DataFrame({'Sale_Price':Sale_Price,'flat_area':flat_area})\n",
        "Sample_data"
      ],
      "execution_count": 2,
      "outputs": [
        {
          "output_type": "execute_result",
          "data": {
            "text/html": [
              "<div>\n",
              "<style scoped>\n",
              "    .dataframe tbody tr th:only-of-type {\n",
              "        vertical-align: middle;\n",
              "    }\n",
              "\n",
              "    .dataframe tbody tr th {\n",
              "        vertical-align: top;\n",
              "    }\n",
              "\n",
              "    .dataframe thead th {\n",
              "        text-align: right;\n",
              "    }\n",
              "</style>\n",
              "<table border=\"1\" class=\"dataframe\">\n",
              "  <thead>\n",
              "    <tr style=\"text-align: right;\">\n",
              "      <th></th>\n",
              "      <th>Sale_Price</th>\n",
              "      <th>flat_area</th>\n",
              "    </tr>\n",
              "  </thead>\n",
              "  <tbody>\n",
              "    <tr>\n",
              "      <th>0</th>\n",
              "      <td>221900.0</td>\n",
              "      <td>1180.0</td>\n",
              "    </tr>\n",
              "    <tr>\n",
              "      <th>1</th>\n",
              "      <td>538000.0</td>\n",
              "      <td>2570.0</td>\n",
              "    </tr>\n",
              "    <tr>\n",
              "      <th>2</th>\n",
              "      <td>180000.0</td>\n",
              "      <td>770.0</td>\n",
              "    </tr>\n",
              "    <tr>\n",
              "      <th>3</th>\n",
              "      <td>604000.0</td>\n",
              "      <td>1960.0</td>\n",
              "    </tr>\n",
              "    <tr>\n",
              "      <th>4</th>\n",
              "      <td>510000.0</td>\n",
              "      <td>1680.0</td>\n",
              "    </tr>\n",
              "    <tr>\n",
              "      <th>5</th>\n",
              "      <td>1129575.0</td>\n",
              "      <td>5420.0</td>\n",
              "    </tr>\n",
              "    <tr>\n",
              "      <th>6</th>\n",
              "      <td>257500.0</td>\n",
              "      <td>1715.0</td>\n",
              "    </tr>\n",
              "    <tr>\n",
              "      <th>7</th>\n",
              "      <td>291850.0</td>\n",
              "      <td>1060.0</td>\n",
              "    </tr>\n",
              "    <tr>\n",
              "      <th>8</th>\n",
              "      <td>229500.0</td>\n",
              "      <td>1780.0</td>\n",
              "    </tr>\n",
              "    <tr>\n",
              "      <th>9</th>\n",
              "      <td>323000.0</td>\n",
              "      <td>1890.0</td>\n",
              "    </tr>\n",
              "    <tr>\n",
              "      <th>10</th>\n",
              "      <td>662500.0</td>\n",
              "      <td>3560.0</td>\n",
              "    </tr>\n",
              "    <tr>\n",
              "      <th>11</th>\n",
              "      <td>468000.0</td>\n",
              "      <td>1160.0</td>\n",
              "    </tr>\n",
              "    <tr>\n",
              "      <th>12</th>\n",
              "      <td>310000.0</td>\n",
              "      <td>1430.0</td>\n",
              "    </tr>\n",
              "    <tr>\n",
              "      <th>13</th>\n",
              "      <td>400000.0</td>\n",
              "      <td>1370.0</td>\n",
              "    </tr>\n",
              "    <tr>\n",
              "      <th>14</th>\n",
              "      <td>530000.0</td>\n",
              "      <td>1810.0</td>\n",
              "    </tr>\n",
              "    <tr>\n",
              "      <th>15</th>\n",
              "      <td>650000.0</td>\n",
              "      <td>2950.0</td>\n",
              "    </tr>\n",
              "    <tr>\n",
              "      <th>16</th>\n",
              "      <td>395000.0</td>\n",
              "      <td>1890.0</td>\n",
              "    </tr>\n",
              "    <tr>\n",
              "      <th>17</th>\n",
              "      <td>485000.0</td>\n",
              "      <td>1600.0</td>\n",
              "    </tr>\n",
              "    <tr>\n",
              "      <th>18</th>\n",
              "      <td>189000.0</td>\n",
              "      <td>1200.0</td>\n",
              "    </tr>\n",
              "    <tr>\n",
              "      <th>19</th>\n",
              "      <td>230000.0</td>\n",
              "      <td>1250.0</td>\n",
              "    </tr>\n",
              "    <tr>\n",
              "      <th>20</th>\n",
              "      <td>385000.0</td>\n",
              "      <td>1620.0</td>\n",
              "    </tr>\n",
              "    <tr>\n",
              "      <th>21</th>\n",
              "      <td>1129575.0</td>\n",
              "      <td>3050.0</td>\n",
              "    </tr>\n",
              "    <tr>\n",
              "      <th>22</th>\n",
              "      <td>285000.0</td>\n",
              "      <td>2270.0</td>\n",
              "    </tr>\n",
              "    <tr>\n",
              "      <th>23</th>\n",
              "      <td>252700.0</td>\n",
              "      <td>1070.0</td>\n",
              "    </tr>\n",
              "    <tr>\n",
              "      <th>24</th>\n",
              "      <td>329000.0</td>\n",
              "      <td>2450.0</td>\n",
              "    </tr>\n",
              "    <tr>\n",
              "      <th>25</th>\n",
              "      <td>233000.0</td>\n",
              "      <td>1710.0</td>\n",
              "    </tr>\n",
              "    <tr>\n",
              "      <th>26</th>\n",
              "      <td>937000.0</td>\n",
              "      <td>2450.0</td>\n",
              "    </tr>\n",
              "    <tr>\n",
              "      <th>27</th>\n",
              "      <td>667000.0</td>\n",
              "      <td>1400.0</td>\n",
              "    </tr>\n",
              "    <tr>\n",
              "      <th>28</th>\n",
              "      <td>438000.0</td>\n",
              "      <td>1520.0</td>\n",
              "    </tr>\n",
              "    <tr>\n",
              "      <th>29</th>\n",
              "      <td>719000.0</td>\n",
              "      <td>2570.0</td>\n",
              "    </tr>\n",
              "  </tbody>\n",
              "</table>\n",
              "</div>"
            ],
            "text/plain": [
              "    Sale_Price  flat_area\n",
              "0     221900.0     1180.0\n",
              "1     538000.0     2570.0\n",
              "2     180000.0      770.0\n",
              "3     604000.0     1960.0\n",
              "4     510000.0     1680.0\n",
              "5    1129575.0     5420.0\n",
              "6     257500.0     1715.0\n",
              "7     291850.0     1060.0\n",
              "8     229500.0     1780.0\n",
              "9     323000.0     1890.0\n",
              "10    662500.0     3560.0\n",
              "11    468000.0     1160.0\n",
              "12    310000.0     1430.0\n",
              "13    400000.0     1370.0\n",
              "14    530000.0     1810.0\n",
              "15    650000.0     2950.0\n",
              "16    395000.0     1890.0\n",
              "17    485000.0     1600.0\n",
              "18    189000.0     1200.0\n",
              "19    230000.0     1250.0\n",
              "20    385000.0     1620.0\n",
              "21   1129575.0     3050.0\n",
              "22    285000.0     2270.0\n",
              "23    252700.0     1070.0\n",
              "24    329000.0     2450.0\n",
              "25    233000.0     1710.0\n",
              "26    937000.0     2450.0\n",
              "27    667000.0     1400.0\n",
              "28    438000.0     1520.0\n",
              "29    719000.0     2570.0"
            ]
          },
          "metadata": {
            "tags": []
          },
          "execution_count": 2
        }
      ]
    },
    {
      "cell_type": "code",
      "metadata": {
        "colab": {
          "base_uri": "https://localhost:8080/",
          "height": 594
        },
        "id": "AQwrNRAcqG1v",
        "outputId": "5d3370a3-2ebf-4e4c-c01d-000258f1255e"
      },
      "source": [
        "#plotting a scatter plot between flat area and sale price\n",
        "import matplotlib.pyplot as plt\n",
        "\n",
        "plt.figure(dpi=150)\n",
        "plt.scatter(Sample_data.flat_area,Sample_data.Sale_Price,color='red')\n",
        "plt.xlabel('Flat area')\n",
        "plt.ylabel('Sale Price')\n",
        "plt.title('sale price vs flat area')\n",
        "plt.show()\n",
        "\n"
      ],
      "execution_count": 3,
      "outputs": [
        {
          "output_type": "display_data",
          "data": {
            "image/png": "[encoded data removed]",
            "text/plain": [
              "<Figure size 900x600 with 1 Axes>"
            ]
          },
          "metadata": {
            "tags": [],
            "needs_background": "light"
          }
        }
      ]
    },
    {
      "cell_type": "code",
      "metadata": {
        "colab": {
          "base_uri": "https://localhost:8080/",
          "height": 594
        },
        "id": "Lq0BN94nq5Mr",
        "outputId": "0a4403b0-be70-4667-be23-5fcb8c58b17d"
      },
      "source": [
        "# the first and the most basic model is the mean regression model which is as fallow\n",
        "\n",
        "Sample_data['mean_sale_price']=Sample_data.Sale_Price.mean()\n",
        "\n",
        "#plotting a scatter plot\n",
        "\n",
        "plt.figure(dpi=150)\n",
        "plt.scatter(Sample_data.flat_area,Sample_data.mean_sale_price,color='yellow',label='Mean Sale Price')\n",
        "plt.xlabel('Flat Area')\n",
        "plt.ylabel('Sale Price')\n",
        "plt.title('Sale Price/Flat Area')\n",
        "plt.legend()\n",
        "plt.show()\n",
        "\n"
      ],
      "execution_count": 4,
      "outputs": [
        {
          "output_type": "display_data",
          "data": {
            "image/png": "[encoded data removed]",
            "text/plain": [
              "<Figure size 900x600 with 1 Axes>"
            ]
          },
          "metadata": {
            "tags": [],
            "needs_background": "light"
          }
        }
      ]
    },
    {
      "cell_type": "markdown",
      "metadata": {
        "id": "kJPXgmAHs70w"
      },
      "source": [
        "The mean regression model says that every new house listed would have the same price irrespective of the flat area which is not correct\n",
        "\n",
        "as the mean regression model fails the better way is to use linear regression model\n",
        "\n",
        "**Linear Regression Model**: It model the linear relationship between the independent and dependent variable\n",
        "\n",
        "The best linear regression model is the one which have the least error \n",
        "\n",
        "Equation of a straight line :\n",
        "                            Y=mx+C\n",
        "                            Y: dependent variable\n",
        "                            x: independent variable\n",
        "                            m: slope\n",
        "                            C: intercept\n",
        "\n",
        "the slope and the intercept are known as the parameter of the line\n",
        "\n",
        "**Change in C value keeping m constant**\n",
        "\n",
        "As the value of c increases the line shifts upward but the angle of the line doesn't changes\n",
        "\n",
        "**Change in the value of m keeping C constant**\n",
        "\n",
        "As the value of m increases the rate at which the value of Y changes with respect to x also increases\n",
        "\n"
      ]
    },
    {
      "cell_type": "markdown",
      "metadata": {
        "id": "wTdTUeNre19o"
      },
      "source": [
        "# **Cost Function Curve**"
      ]
    },
    {
      "cell_type": "code",
      "metadata": {
        "colab": {
          "base_uri": "https://localhost:8080/",
          "height": 611
        },
        "id": "617jTieGfAIn",
        "outputId": "4ef6af82-6c9d-4999-db11-4f8e782db461"
      },
      "source": [
        "c=0 #intercept intialization\n",
        "m=0 # slope initializtion\n",
        "line=[]\n",
        "\n",
        "for i in range (len(Sample_data)):\n",
        "  line.append(Sample_data.flat_area[i]*m+c)\n",
        "\n",
        "plt.figure(dpi=150)\n",
        "plt.scatter(Sample_data.flat_area,Sample_data.Sale_Price)\n",
        "\n",
        "plt.plot(Sample_data.flat_area,line,label='m=0.0;l=0')\n",
        "plt.xlabel('Flat Area')\n",
        "plt.ylabel('Sale_Price')\n",
        "plt.legend()\n",
        "\n",
        "#calculating MSE\n",
        "from sklearn.metrics import mean_squared_error as mse\n",
        "MSE= mse(Sample_data.Sale_Price,line)\n",
        "plt.title(\"slope \"+str(m)+' with MSE '+str(MSE))"
      ],
      "execution_count": 13,
      "outputs": [
        {
          "output_type": "execute_result",
          "data": {
            "text/plain": [
              "Text(0.5, 1.0, 'slope 0 with MSE 281372081125.0')"
            ]
          },
          "metadata": {
            "tags": []
          },
          "execution_count": 13
        },
        {
          "output_type": "display_data",
          "data": {
            "image/png": "[encoded data removed]",
            "text/plain": [
              "<Figure size 900x600 with 1 Axes>"
            ]
          },
          "metadata": {
            "tags": [],
            "needs_background": "light"
          }
        }
      ]
    },
    {
      "cell_type": "markdown",
      "metadata": {
        "id": "OWvUTzdVk_0k"
      },
      "source": [
        "the line that we made from the data is very bad and have a very bad MSE\n",
        "\n",
        "Lets change the slope to m=50 and c=0 \n",
        "\n",
        "In this line is able to fit the data better than the previous model but still the model is very poor as MSE is very large\n",
        "\n"
      ]
    },
    {
      "cell_type": "code",
      "metadata": {
        "colab": {
          "base_uri": "https://localhost:8080/",
          "height": 611
        },
        "id": "wQsbDbMPllkO",
        "outputId": "5f0c5f41-a858-4f09-ad2b-c8bae5fa073e"
      },
      "source": [
        "c=0 #intercept intialization\n",
        "m=50 # slope initializtion\n",
        "line=[]\n",
        "\n",
        "for i in range (len(Sample_data)):\n",
        "  line.append(Sample_data.flat_area[i]*m+c)\n",
        "\n",
        "plt.figure(dpi=150)\n",
        "plt.scatter(Sample_data.flat_area,Sample_data.Sale_Price)\n",
        "\n",
        "plt.plot(Sample_data.flat_area,line,label='m=0.0;l=0')\n",
        "plt.xlabel('Flat Area')\n",
        "plt.ylabel('Sale_Price')\n",
        "plt.legend()\n",
        "\n",
        "#calculating MSE\n",
        "from sklearn.metrics import mean_squared_error as mse\n",
        "MSE= mse(Sample_data.Sale_Price,line)\n",
        "plt.title(\"slope \"+str(m)+' with MSE '+str(MSE))"
      ],
      "execution_count": 15,
      "outputs": [
        {
          "output_type": "execute_result",
          "data": {
            "text/plain": [
              "Text(0.5, 1.0, 'slope 50 with MSE 184728400708.33334')"
            ]
          },
          "metadata": {
            "tags": []
          },
          "execution_count": 15
        },
        {
          "output_type": "display_data",
          "data": {
            "image/png": "[encoded data removed]",
            "text/plain": [
              "<Figure size 900x600 with 1 Axes>"
            ]
          },
          "metadata": {
            "tags": [],
            "needs_background": "light"
          }
        }
      ]
    },
    {
      "cell_type": "markdown",
      "metadata": {
        "id": "b1NpV3REltAJ"
      },
      "source": [
        "Determine the slope of the line is very tedious task lets automate this process"
      ]
    },
    {
      "cell_type": "code",
      "metadata": {
        "id": "6hgDT_trlyVC"
      },
      "source": [
        "def slope_Error (slope,intercept,sample_data):\n",
        "  Sale=[]\n",
        "  for i in range (len(sample_data.flat_area)):\n",
        "    tmp=(sample_data.flat_area[i]*slope)+intercept\n",
        "    Sale.append(tmp)\n",
        "\n",
        "  MSE=mse(sample_data.Sale_Price,Sale)\n",
        "  return MSE"
      ],
      "execution_count": 34,
      "outputs": []
    },
    {
      "cell_type": "code",
      "metadata": {
        "colab": {
          "base_uri": "https://localhost:8080/",
          "height": 204
        },
        "id": "WdUwbYR5mcCl",
        "outputId": "eafb7270-c037-41b6-a8c4-2b483f0aee8b"
      },
      "source": [
        "slope=[i/10 for i in range(0,5000)]\n",
        "cost=[]\n",
        "\n",
        "for i in slope:\n",
        "  cst=slope_Error(slope=i,intercept=0,sample_data=Sample_data)\n",
        "  cost.append(cst)\n",
        "\n",
        "# arranging the dataframe\n",
        "\n",
        "Cost_table=pd.DataFrame({\n",
        "    'slope':slope,\n",
        "    'cost': cost\n",
        "})\n",
        "Cost_table.head()"
      ],
      "execution_count": 36,
      "outputs": [
        {
          "output_type": "execute_result",
          "data": {
            "text/html": [
              "<div>\n",
              "<style scoped>\n",
              "    .dataframe tbody tr th:only-of-type {\n",
              "        vertical-align: middle;\n",
              "    }\n",
              "\n",
              "    .dataframe tbody tr th {\n",
              "        vertical-align: top;\n",
              "    }\n",
              "\n",
              "    .dataframe thead th {\n",
              "        text-align: right;\n",
              "    }\n",
              "</style>\n",
              "<table border=\"1\" class=\"dataframe\">\n",
              "  <thead>\n",
              "    <tr style=\"text-align: right;\">\n",
              "      <th></th>\n",
              "      <th>slope</th>\n",
              "      <th>cost</th>\n",
              "    </tr>\n",
              "  </thead>\n",
              "  <tbody>\n",
              "    <tr>\n",
              "      <th>0</th>\n",
              "      <td>0.0</td>\n",
              "      <td>2.813721e+11</td>\n",
              "    </tr>\n",
              "    <tr>\n",
              "      <th>1</th>\n",
              "      <td>0.1</td>\n",
              "      <td>2.811558e+11</td>\n",
              "    </tr>\n",
              "    <tr>\n",
              "      <th>2</th>\n",
              "      <td>0.2</td>\n",
              "      <td>2.809395e+11</td>\n",
              "    </tr>\n",
              "    <tr>\n",
              "      <th>3</th>\n",
              "      <td>0.3</td>\n",
              "      <td>2.807234e+11</td>\n",
              "    </tr>\n",
              "    <tr>\n",
              "      <th>4</th>\n",
              "      <td>0.4</td>\n",
              "      <td>2.805073e+11</td>\n",
              "    </tr>\n",
              "  </tbody>\n",
              "</table>\n",
              "</div>"
            ],
            "text/plain": [
              "   slope          cost\n",
              "0    0.0  2.813721e+11\n",
              "1    0.1  2.811558e+11\n",
              "2    0.2  2.809395e+11\n",
              "3    0.3  2.807234e+11\n",
              "4    0.4  2.805073e+11"
            ]
          },
          "metadata": {
            "tags": []
          },
          "execution_count": 36
        }
      ]
    },
    {
      "cell_type": "code",
      "metadata": {
        "colab": {
          "base_uri": "https://localhost:8080/",
          "height": 307
        },
        "id": "jkM5_gPeoAsH",
        "outputId": "a0ae1d75-ac4a-464f-b411-7227f1c7839c"
      },
      "source": [
        "#plotting the cost value corresponding to every value of slope\n",
        "\n",
        "plt.plot(Cost_table.slope,Cost_table.cost,label='Cost function curve')\n",
        "plt.xlabel('value of slope')\n",
        "plt.ylabel('cost')\n",
        "plt.legend()"
      ],
      "execution_count": 37,
      "outputs": [
        {
          "output_type": "execute_result",
          "data": {
            "text/plain": [
              "<matplotlib.legend.Legend at 0x7efc147eb1d0>"
            ]
          },
          "metadata": {
            "tags": []
          },
          "execution_count": 37
        },
        {
          "output_type": "display_data",
          "data": {
            "image/png": "[encoded data removed]",
            "text/plain": [
              "<Figure size 432x288 with 1 Axes>"
            ]
          },
          "metadata": {
            "tags": [],
            "needs_background": "light"
          }
        }
      ]
    },
    {
      "cell_type": "markdown",
      "metadata": {
        "id": "vvwyCocVslJU"
      },
      "source": [
        "the curve is called cost function curve or loss function curve is the error corresponding to different model\n",
        "\n",
        "\n",
        " **Convex curve**:\n",
        "\n",
        "\n",
        "1.   The convex curve have minimum value at cerrtain point \n",
        "2.   The value of the curve increases in both side of the curve\n",
        "3.   In convex curve there is only one point that is minimum it is called Global Minimum\n",
        "\n",
        "**Non Convex Curve**: This have two or more minima available\n",
        "\n"
      ]
    }
  ]
}